{
 "cells": [
  {
   "cell_type": "markdown",
   "id": "e82e1416",
   "metadata": {},
   "source": [
    "### Environment Setup"
   ]
  },
  {
   "cell_type": "code",
   "execution_count": 1,
   "id": "c72d80fb",
   "metadata": {},
   "outputs": [
    {
     "name": "stderr",
     "output_type": "stream",
     "text": [
      "e:\\Private\\AI-PROJECTS-PORTFOLIO-DOCS-ASSETS\\ALL-PROJECTS-PACKAGES\\gen-ai-and-llm\\venv\\Lib\\site-packages\\tqdm\\auto.py:21: TqdmWarning: IProgress not found. Please update jupyter and ipywidgets. See https://ipywidgets.readthedocs.io/en/stable/user_install.html\n",
      "  from .autonotebook import tqdm as notebook_tqdm\n"
     ]
    }
   ],
   "source": [
    "from dotenv import load_dotenv\n",
    "import os\n",
    "load_dotenv()\n",
    "\n",
    "from langchain_google_genai import ChatGoogleGenerativeAI\n",
    "from langchain.agents import initialize_agent, Tool\n"
   ]
  },
  {
   "cell_type": "code",
   "execution_count": 2,
   "id": "d9f6c6a2",
   "metadata": {},
   "outputs": [],
   "source": [
    "GOOGLE_API_KEY = os.getenv(\"GOOGLE_API_KEY\")"
   ]
  },
  {
   "cell_type": "markdown",
   "id": "5d094c84",
   "metadata": {},
   "source": [
    "### Create Function Tools"
   ]
  },
  {
   "cell_type": "markdown",
   "id": "649f1dc8",
   "metadata": {},
   "source": [
    "#### Calculator Tool"
   ]
  },
  {
   "cell_type": "code",
   "execution_count": 3,
   "id": "e9e9d643",
   "metadata": {},
   "outputs": [],
   "source": [
    "#Calculator Tool\n",
    "def calculator_tool(expression: str) -> str:\n",
    "    try:\n",
    "        result = eval(expression)\n",
    "        return f\"The result of {expression} is {result}\"\n",
    "    except Exception as e:\n",
    "        return f\"Error: {str(e)}\"\n"
   ]
  },
  {
   "cell_type": "markdown",
   "id": "08a428ab",
   "metadata": {},
   "source": [
    "#### Weather API Tool"
   ]
  },
  {
   "cell_type": "code",
   "execution_count": 12,
   "id": "a87c99ad",
   "metadata": {},
   "outputs": [],
   "source": [
    "# Weather API\n",
    "\n",
    "import requests\n",
    "\n",
    "def get_weather(city: str) -> str:\n",
    "    city_coords = {\n",
    "        \"pune\": (18.5204, 73.8567),\n",
    "        \"mumbai\": (19.0760, 72.8777),\n",
    "        \"delhi\": (28.6139, 77.2090),\n",
    "        \"malegaon\": (29.487, 71.000)\n",
    "    }\n",
    "    if city.lower() not in city_coords:\n",
    "        return \"City not found in database.\"\n",
    "    \n",
    "    lat, lon = city_coords[city.lower()]\n",
    "    url = f\"https://api.open-meteo.com/v1/forecast?latitude={lat}&longitude={lon}&current_weather=true\"\n",
    "    res = requests.get(url).json()\n",
    "    temp = res[\"current_weather\"][\"temperature\"]\n",
    "    return f\"The current temperature in {city.title()} is {temp}°C.\"\n"
   ]
  },
  {
   "cell_type": "markdown",
   "id": "28e2bbce",
   "metadata": {},
   "source": [
    "### Wrap Tools for LangChain Agent"
   ]
  },
  {
   "cell_type": "code",
   "execution_count": 13,
   "id": "b5965249",
   "metadata": {},
   "outputs": [],
   "source": [
    "tools = [\n",
    "    Tool(\n",
    "        name=\"Calculator\",\n",
    "        func=calculator_tool,\n",
    "        description=\"Useful for mathematical calculations.\"\n",
    "    ),\n",
    "    Tool(\n",
    "        name=\"Weather Info\",\n",
    "        func=get_weather,\n",
    "        description=\"Provides real-time weather for a given city.\"\n",
    "    )\n",
    "]\n"
   ]
  },
  {
   "cell_type": "markdown",
   "id": "c41b247f",
   "metadata": {},
   "source": [
    "### Create Gemini-Powered Agent"
   ]
  },
  {
   "cell_type": "code",
   "execution_count": null,
   "id": "ee503e21",
   "metadata": {},
   "outputs": [],
   "source": [
    "llm = ChatGoogleGenerativeAI(model=\"gemini-2.0-flash\", temperature=0.3)\n",
    "\n",
    "agent = initialize_agent(\n",
    "    tools=tools,\n",
    "    llm=llm,\n",
    "    agent_type=\"zero-shot-react-description\",\n",
    "    verbose=True\n",
    ")"
   ]
  },
  {
   "cell_type": "markdown",
   "id": "010b6719",
   "metadata": {},
   "source": [
    "### Test Your AI Assistant Agent"
   ]
  },
  {
   "cell_type": "code",
   "execution_count": 15,
   "id": "dfec4951",
   "metadata": {},
   "outputs": [
    {
     "name": "stdout",
     "output_type": "stream",
     "text": [
      "\n",
      "\n",
      "\u001b[1m> Entering new AgentExecutor chain...\u001b[0m\n",
      "\u001b[32;1m\u001b[1;3mI need to calculate the product of 45 and 23.\n",
      "Action: Calculator\n",
      "Action Input: 45 * 23\u001b[0m\n",
      "Observation: \u001b[36;1m\u001b[1;3mThe result of 45 * 23 is 1035\u001b[0m\n",
      "Thought:\u001b[32;1m\u001b[1;3mI now know the final answer\n",
      "Final Answer: 1035\u001b[0m\n",
      "\n",
      "\u001b[1m> Finished chain.\u001b[0m\n",
      "\n",
      "\n",
      "\u001b[1m> Entering new AgentExecutor chain...\u001b[0m\n",
      "\u001b[32;1m\u001b[1;3mI need to find out the current weather conditions in Mumbai.\n",
      "Action: Weather Info\n",
      "Action Input: Mumbai\u001b[0m\n",
      "Observation: \u001b[33;1m\u001b[1;3mThe current temperature in Mumbai is 29.1°C.\u001b[0m\n",
      "Thought:\u001b[32;1m\u001b[1;3mI now know the weather in Mumbai.\n",
      "Final Answer: The current temperature in Mumbai is 29.1°C.\u001b[0m\n",
      "\n",
      "\u001b[1m> Finished chain.\u001b[0m\n",
      "\n",
      "\n",
      "\u001b[1m> Entering new AgentExecutor chain...\u001b[0m\n",
      "\u001b[32;1m\u001b[1;3mI need to convert Celsius to Fahrenheit. I can use the formula: Fahrenheit = (Celsius * 9/5) + 32.\n",
      "Action: Calculator\n",
      "Action Input: (30 * 9/5) + 32\u001b[0m\n",
      "Observation: \u001b[36;1m\u001b[1;3mThe result of (30 * 9/5) + 32 is 86.0\u001b[0m\n",
      "Thought:\u001b[32;1m\u001b[1;3mI now know the final answer\n",
      "Final Answer: 86°F\u001b[0m\n",
      "\n",
      "\u001b[1m> Finished chain.\u001b[0m\n"
     ]
    },
    {
     "data": {
      "text/plain": [
       "{'input': 'If temperature in Mumbai is 30°C, what would be in Fahrenheit?',\n",
       " 'output': '86°F'}"
      ]
     },
     "execution_count": 15,
     "metadata": {},
     "output_type": "execute_result"
    }
   ],
   "source": [
    "agent.invoke(\"What is 45 * 23?\")\n",
    "agent.invoke(\"What's the weather in Mumbai?\")\n",
    "agent.invoke(\"If temperature in Mumbai is 30°C, what would be in Fahrenheit?\")"
   ]
  },
  {
   "cell_type": "code",
   "execution_count": 16,
   "id": "2e194c62",
   "metadata": {},
   "outputs": [
    {
     "name": "stdout",
     "output_type": "stream",
     "text": [
      "\n",
      "\n",
      "\u001b[1m> Entering new AgentExecutor chain...\u001b[0m\n",
      "\u001b[32;1m\u001b[1;3mI need to find out the weather in Malegaon.\n",
      "Action: Weather Info\n",
      "Action Input: Malegaon\u001b[0m\n",
      "Observation: \u001b[33;1m\u001b[1;3mThe current temperature in Malegaon is 28.0°C.\u001b[0m\n",
      "Thought:\u001b[32;1m\u001b[1;3mI now know the weather in Malegaon.\n",
      "Final Answer: The current temperature in Malegaon is 28.0°C.\u001b[0m\n",
      "\n",
      "\u001b[1m> Finished chain.\u001b[0m\n"
     ]
    },
    {
     "data": {
      "text/plain": [
       "{'input': \"What's the weather in Malegaon?\",\n",
       " 'output': 'The current temperature in Malegaon is 28.0°C.'}"
      ]
     },
     "execution_count": 16,
     "metadata": {},
     "output_type": "execute_result"
    }
   ],
   "source": [
    "agent.invoke(\"What's the weather in Malegaon?\")"
   ]
  },
  {
   "cell_type": "code",
   "execution_count": 20,
   "id": "ad78f558",
   "metadata": {},
   "outputs": [
    {
     "name": "stdout",
     "output_type": "stream",
     "text": [
      "\n",
      "\n",
      "\u001b[1m> Entering new AgentExecutor chain...\u001b[0m\n",
      "\u001b[32;1m\u001b[1;3mI need to calculate the result of 4 divided by 0. Division by zero is undefined in mathematics.\n",
      "Action: Calculator\n",
      "Action Input: 4/0\u001b[0m\n",
      "Observation: \u001b[36;1m\u001b[1;3mError: division by zero\u001b[0m\n",
      "Thought:\u001b[32;1m\u001b[1;3mI know that division by zero is undefined.\n",
      "Final Answer: Division by zero is undefined.\u001b[0m\n",
      "\n",
      "\u001b[1m> Finished chain.\u001b[0m\n"
     ]
    },
    {
     "data": {
      "text/plain": [
       "{'input': 'What is the division of 4/0',\n",
       " 'output': 'Division by zero is undefined.'}"
      ]
     },
     "execution_count": 20,
     "metadata": {},
     "output_type": "execute_result"
    }
   ],
   "source": [
    "agent.invoke(\"What is the division of 4/0\")"
   ]
  },
  {
   "cell_type": "code",
   "execution_count": null,
   "id": "f85c99f5",
   "metadata": {},
   "outputs": [],
   "source": []
  }
 ],
 "metadata": {
  "kernelspec": {
   "display_name": "venv",
   "language": "python",
   "name": "python3"
  },
  "language_info": {
   "codemirror_mode": {
    "name": "ipython",
    "version": 3
   },
   "file_extension": ".py",
   "mimetype": "text/x-python",
   "name": "python",
   "nbconvert_exporter": "python",
   "pygments_lexer": "ipython3",
   "version": "3.11.7"
  }
 },
 "nbformat": 4,
 "nbformat_minor": 5
}
