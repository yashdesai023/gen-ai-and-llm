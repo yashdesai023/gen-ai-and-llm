{
 "cells": [
  {
   "cell_type": "markdown",
   "id": "f09c93e9",
   "metadata": {},
   "source": [
    "### Import & Initialize"
   ]
  },
  {
   "cell_type": "code",
   "execution_count": 1,
   "id": "47bf0883",
   "metadata": {},
   "outputs": [],
   "source": [
    "import os\n",
    "from dotenv import load_dotenv\n",
    "\n",
    "GOOGLE_API_KEY = os.getenv(\"GOOGLE_API_KEY\")\n"
   ]
  },
  {
   "cell_type": "code",
   "execution_count": 11,
   "id": "53022c6b",
   "metadata": {},
   "outputs": [],
   "source": [
    "from crewai import Agent, Task, Crew\n",
    "from langchain_google_genai import ChatGoogleGenerativeAI\n",
    "from langchain_community.tools import DuckDuckGoSearchRun"
   ]
  },
  {
   "cell_type": "code",
   "execution_count": 12,
   "id": "5fb014ea",
   "metadata": {},
   "outputs": [],
   "source": [
    "# Initialize LLM (Gemini)\n",
    "llm = ChatGoogleGenerativeAI(model=\"gemini-2.0-pro\")\n",
    "search_tool = DuckDuckGoSearchResults()"
   ]
  },
  {
   "cell_type": "code",
   "execution_count": 14,
   "id": "703bb79b",
   "metadata": {},
   "outputs": [
    {
     "ename": "ValidationError",
     "evalue": "1 validation error for Agent\ntools.0\n  Input should be a valid dictionary or instance of BaseTool [type=model_type, input_value=DuckDuckGoSearchResults(a...='auto', source='text')), input_type=DuckDuckGoSearchResults]\n    For further information visit https://errors.pydantic.dev/2.12/v/model_type",
     "output_type": "error",
     "traceback": [
      "\u001b[31m---------------------------------------------------------------------------\u001b[39m",
      "\u001b[31mValidationError\u001b[39m                           Traceback (most recent call last)",
      "\u001b[36mCell\u001b[39m\u001b[36m \u001b[39m\u001b[32mIn[14]\u001b[39m\u001b[32m, line 2\u001b[39m\n\u001b[32m      1\u001b[39m \u001b[38;5;66;03m# This will now initialize without error\u001b[39;00m\n\u001b[32m----> \u001b[39m\u001b[32m2\u001b[39m researcher = \u001b[43mAgent\u001b[49m\u001b[43m(\u001b[49m\n\u001b[32m      3\u001b[39m \u001b[43m    \u001b[49m\u001b[43mrole\u001b[49m\u001b[43m=\u001b[49m\u001b[33;43m\"\u001b[39;49m\u001b[33;43mResearcher\u001b[39;49m\u001b[33;43m\"\u001b[39;49m\u001b[43m,\u001b[49m\n\u001b[32m      4\u001b[39m \u001b[43m    \u001b[49m\u001b[43mgoal\u001b[49m\u001b[43m=\u001b[49m\u001b[33;43m\"\u001b[39;49m\u001b[33;43mSearch the web for relevant, up-to-date information about AI tools.\u001b[39;49m\u001b[33;43m\"\u001b[39;49m\u001b[43m,\u001b[49m\n\u001b[32m      5\u001b[39m \u001b[43m    \u001b[49m\u001b[43mbackstory\u001b[49m\u001b[43m=\u001b[49m\u001b[33;43m\"\u001b[39;49m\u001b[33;43mYou are skilled in web research and fact-finding.\u001b[39;49m\u001b[33;43m\"\u001b[39;49m\u001b[43m,\u001b[49m\n\u001b[32m      6\u001b[39m \u001b[43m    \u001b[49m\u001b[43mllm\u001b[49m\u001b[43m=\u001b[49m\u001b[43mllm\u001b[49m\u001b[43m,\u001b[49m\n\u001b[32m      7\u001b[39m \u001b[43m    \u001b[49m\u001b[43mtools\u001b[49m\u001b[43m=\u001b[49m\u001b[43m[\u001b[49m\u001b[43msearch_tool\u001b[49m\u001b[43m]\u001b[49m\n\u001b[32m      8\u001b[39m \u001b[43m)\u001b[49m\n\u001b[32m     10\u001b[39m \u001b[38;5;66;03m# Summarizer Agent\u001b[39;00m\n\u001b[32m     11\u001b[39m summarizer = Agent(\n\u001b[32m     12\u001b[39m     role=\u001b[33m\"\u001b[39m\u001b[33mSummarizer\u001b[39m\u001b[33m\"\u001b[39m,\n\u001b[32m     13\u001b[39m     goal=\u001b[33m\"\u001b[39m\u001b[33mSummarize research findings concisely.\u001b[39m\u001b[33m\"\u001b[39m,\n\u001b[32m     14\u001b[39m     backstory=\u001b[33m\"\u001b[39m\u001b[33mYou convert complex text into short, readable summaries.\u001b[39m\u001b[33m\"\u001b[39m,\n\u001b[32m     15\u001b[39m     llm=llm\n\u001b[32m     16\u001b[39m )\n",
      "\u001b[36mFile \u001b[39m\u001b[32me:\\Private\\AI-PROJECTS-PORTFOLIO-DOCS-ASSETS\\ALL-PROJECTS-PACKAGES\\gen-ai-and-llm\\venv\\Lib\\site-packages\\pydantic\\main.py:250\u001b[39m, in \u001b[36mBaseModel.__init__\u001b[39m\u001b[34m(self, **data)\u001b[39m\n\u001b[32m    248\u001b[39m \u001b[38;5;66;03m# `__tracebackhide__` tells pytest and some other tools to omit this function from tracebacks\u001b[39;00m\n\u001b[32m    249\u001b[39m __tracebackhide__ = \u001b[38;5;28;01mTrue\u001b[39;00m\n\u001b[32m--> \u001b[39m\u001b[32m250\u001b[39m validated_self = \u001b[38;5;28;43mself\u001b[39;49m\u001b[43m.\u001b[49m\u001b[43m__pydantic_validator__\u001b[49m\u001b[43m.\u001b[49m\u001b[43mvalidate_python\u001b[49m\u001b[43m(\u001b[49m\u001b[43mdata\u001b[49m\u001b[43m,\u001b[49m\u001b[43m \u001b[49m\u001b[43mself_instance\u001b[49m\u001b[43m=\u001b[49m\u001b[38;5;28;43mself\u001b[39;49m\u001b[43m)\u001b[49m\n\u001b[32m    251\u001b[39m \u001b[38;5;28;01mif\u001b[39;00m \u001b[38;5;28mself\u001b[39m \u001b[38;5;129;01mis\u001b[39;00m \u001b[38;5;129;01mnot\u001b[39;00m validated_self:\n\u001b[32m    252\u001b[39m     warnings.warn(\n\u001b[32m    253\u001b[39m         \u001b[33m'\u001b[39m\u001b[33mA custom validator is returning a value other than `self`.\u001b[39m\u001b[38;5;130;01m\\n\u001b[39;00m\u001b[33m'\u001b[39m\n\u001b[32m    254\u001b[39m         \u001b[33m\"\u001b[39m\u001b[33mReturning anything other than `self` from a top level model validator isn\u001b[39m\u001b[33m'\u001b[39m\u001b[33mt supported when validating via `__init__`.\u001b[39m\u001b[38;5;130;01m\\n\u001b[39;00m\u001b[33m\"\u001b[39m\n\u001b[32m    255\u001b[39m         \u001b[33m'\u001b[39m\u001b[33mSee the `model_validator` docs (https://docs.pydantic.dev/latest/concepts/validators/#model-validators) for more details.\u001b[39m\u001b[33m'\u001b[39m,\n\u001b[32m    256\u001b[39m         stacklevel=\u001b[32m2\u001b[39m,\n\u001b[32m    257\u001b[39m     )\n",
      "\u001b[31mValidationError\u001b[39m: 1 validation error for Agent\ntools.0\n  Input should be a valid dictionary or instance of BaseTool [type=model_type, input_value=DuckDuckGoSearchResults(a...='auto', source='text')), input_type=DuckDuckGoSearchResults]\n    For further information visit https://errors.pydantic.dev/2.12/v/model_type"
     ]
    }
   ],
   "source": [
    "# This will now initialize without error\n",
    "researcher = Agent(\n",
    "    role=\"Researcher\",\n",
    "    goal=\"Search the web for relevant, up-to-date information about AI tools.\",\n",
    "    backstory=\"You are skilled in web research and fact-finding.\",\n",
    "    llm=llm,\n",
    "    tools=[search_tool]\n",
    ")\n",
    "\n",
    "# Summarizer Agent\n",
    "summarizer = Agent(\n",
    "    role=\"Summarizer\",\n",
    "    goal=\"Summarize research findings concisely.\",\n",
    "    backstory=\"You convert complex text into short, readable summaries.\",\n",
    "    llm=llm\n",
    ")\n",
    "\n",
    "# Reporter Agent\n",
    "reporter = Agent(\n",
    "    role=\"Reporter\",\n",
    "    goal=\"Create a professional, formatted report from summarized content.\",\n",
    "    backstory=\"You write polished, organized content for presentation.\",\n",
    "    llm=llm\n",
    ")"
   ]
  },
  {
   "cell_type": "code",
   "execution_count": null,
   "id": "9e9d6eaf",
   "metadata": {},
   "outputs": [],
   "source": [
    "task_research = Task(\n",
    "    description=\"Find information about the latest AI tools released in 2025.\",\n",
    "    expected_output=\"Raw text content or bullet points of top 5-10 AI tools.\",\n",
    "    agent=researcher\n",
    ")\n",
    "\n",
    "task_summarize = Task(\n",
    "    description=\"Summarize the research output into 5-6 concise paragraphs.\",\n",
    "    expected_output=\"A short summary of each tool with key features.\",\n",
    "    agent=summarizer\n",
    ")\n",
    "\n",
    "task_report = Task(\n",
    "    description=\"Format the summarized data into a neat markdown report.\",\n",
    "    expected_output=\"Well-structured markdown report with headers and lists.\",\n",
    "    agent=reporter\n",
    ")"
   ]
  },
  {
   "cell_type": "code",
   "execution_count": null,
   "id": "f61d6720",
   "metadata": {},
   "outputs": [],
   "source": [
    "crew = Crew(\n",
    "    agents=[researcher, summarizer, reporter],\n",
    "    tasks=[task_research, task_summarize, task_report]\n",
    ")\n",
    "\n",
    "final_output = crew.kickoff()\n",
    "print(final_output)"
   ]
  },
  {
   "cell_type": "code",
   "execution_count": null,
   "metadata": {},
   "outputs": [],
   "source": [
    "pip install crewai duckduckgo-search"
   ]
  },
  {
   "cell_type": "code",
   "execution_count": null,
   "id": "2f457631",
   "metadata": {},
   "outputs": [],
   "source": []
  }
 ],
 "metadata": {
  "kernelspec": {
   "display_name": "venv",
   "language": "python",
   "name": "python3"
  },
  "language_info": {
   "codemirror_mode": {
    "name": "ipython",
    "version": 3
   },
   "file_extension": ".py",
   "mimetype": "text/x-python",
   "name": "python",
   "nbconvert_exporter": "python",
   "pygments_lexer": "ipython3",
   "version": "3.11.7"
  }
 },
 "nbformat": 4,
 "nbformat_minor": 5
}
